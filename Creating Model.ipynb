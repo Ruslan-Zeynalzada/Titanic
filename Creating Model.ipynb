{
 "cells": [
  {
   "cell_type": "markdown",
   "id": "182302d8-cd60-47fd-ac7a-e6e39edf0bc8",
   "metadata": {},
   "source": [
    "# Importing Libraires"
   ]
  },
  {
   "cell_type": "code",
   "execution_count": 1,
   "id": "8c669922-6b25-450d-afd0-93751ad60e46",
   "metadata": {},
   "outputs": [],
   "source": [
    "import pandas as pd\n",
    "import numpy as np\n",
    "import seaborn as sns\n",
    "import matplotlib.pyplot as plt\n",
    "\n",
    "from sklearn.impute import SimpleImputer\n",
    "from sklearn.model_selection import train_test_split , cross_val_score , GridSearchCV\n",
    "from sklearn.preprocessing import RobustScaler , OneHotEncoder\n",
    "from sklearn.linear_model import LogisticRegression\n",
    "\n",
    "from sklearn.feature_selection import SequentialFeatureSelector\n",
    "from sklearn.metrics import roc_curve , roc_auc_score , confusion_matrix , classification_report , f1_score , balanced_accuracy_score \n",
    "from sklearn.pipeline import make_pipeline\n",
    "from sklearn.compose import make_column_transformer\n",
    "import pickle\n",
    "\n",
    "import warnings\n",
    "warnings.filterwarnings(action=\"ignore\")\n",
    "plt.rcParams[\"figure.figsize\"] = (12,8)"
   ]
  },
  {
   "cell_type": "markdown",
   "id": "3a362568-9ede-4765-942e-959b4c37f12f",
   "metadata": {},
   "source": [
    "# Importing DatasetGridSearchCV"
   ]
  },
  {
   "cell_type": "code",
   "execution_count": 2,
   "id": "d0e6b944-eae4-45cb-807b-afcfcd6bf85d",
   "metadata": {},
   "outputs": [
    {
     "data": {
      "text/html": [
       "<div>\n",
       "<style scoped>\n",
       "    .dataframe tbody tr th:only-of-type {\n",
       "        vertical-align: middle;\n",
       "    }\n",
       "\n",
       "    .dataframe tbody tr th {\n",
       "        vertical-align: top;\n",
       "    }\n",
       "\n",
       "    .dataframe thead th {\n",
       "        text-align: right;\n",
       "    }\n",
       "</style>\n",
       "<table border=\"1\" class=\"dataframe\">\n",
       "  <thead>\n",
       "    <tr style=\"text-align: right;\">\n",
       "      <th></th>\n",
       "      <th>survived</th>\n",
       "      <th>pclass</th>\n",
       "      <th>sex</th>\n",
       "      <th>age</th>\n",
       "      <th>sibsp</th>\n",
       "      <th>parch</th>\n",
       "      <th>fare</th>\n",
       "      <th>embarked</th>\n",
       "      <th>class</th>\n",
       "      <th>who</th>\n",
       "      <th>adult_male</th>\n",
       "      <th>deck</th>\n",
       "      <th>embark_town</th>\n",
       "      <th>alive</th>\n",
       "      <th>alone</th>\n",
       "    </tr>\n",
       "  </thead>\n",
       "  <tbody>\n",
       "    <tr>\n",
       "      <th>0</th>\n",
       "      <td>0</td>\n",
       "      <td>3</td>\n",
       "      <td>male</td>\n",
       "      <td>22.0</td>\n",
       "      <td>1</td>\n",
       "      <td>0</td>\n",
       "      <td>7.2500</td>\n",
       "      <td>S</td>\n",
       "      <td>Third</td>\n",
       "      <td>man</td>\n",
       "      <td>True</td>\n",
       "      <td>NaN</td>\n",
       "      <td>Southampton</td>\n",
       "      <td>no</td>\n",
       "      <td>False</td>\n",
       "    </tr>\n",
       "    <tr>\n",
       "      <th>1</th>\n",
       "      <td>1</td>\n",
       "      <td>1</td>\n",
       "      <td>female</td>\n",
       "      <td>38.0</td>\n",
       "      <td>1</td>\n",
       "      <td>0</td>\n",
       "      <td>71.2833</td>\n",
       "      <td>C</td>\n",
       "      <td>First</td>\n",
       "      <td>woman</td>\n",
       "      <td>False</td>\n",
       "      <td>C</td>\n",
       "      <td>Cherbourg</td>\n",
       "      <td>yes</td>\n",
       "      <td>False</td>\n",
       "    </tr>\n",
       "    <tr>\n",
       "      <th>2</th>\n",
       "      <td>1</td>\n",
       "      <td>3</td>\n",
       "      <td>female</td>\n",
       "      <td>26.0</td>\n",
       "      <td>0</td>\n",
       "      <td>0</td>\n",
       "      <td>7.9250</td>\n",
       "      <td>S</td>\n",
       "      <td>Third</td>\n",
       "      <td>woman</td>\n",
       "      <td>False</td>\n",
       "      <td>NaN</td>\n",
       "      <td>Southampton</td>\n",
       "      <td>yes</td>\n",
       "      <td>True</td>\n",
       "    </tr>\n",
       "    <tr>\n",
       "      <th>3</th>\n",
       "      <td>1</td>\n",
       "      <td>1</td>\n",
       "      <td>female</td>\n",
       "      <td>35.0</td>\n",
       "      <td>1</td>\n",
       "      <td>0</td>\n",
       "      <td>53.1000</td>\n",
       "      <td>S</td>\n",
       "      <td>First</td>\n",
       "      <td>woman</td>\n",
       "      <td>False</td>\n",
       "      <td>C</td>\n",
       "      <td>Southampton</td>\n",
       "      <td>yes</td>\n",
       "      <td>False</td>\n",
       "    </tr>\n",
       "    <tr>\n",
       "      <th>4</th>\n",
       "      <td>0</td>\n",
       "      <td>3</td>\n",
       "      <td>male</td>\n",
       "      <td>35.0</td>\n",
       "      <td>0</td>\n",
       "      <td>0</td>\n",
       "      <td>8.0500</td>\n",
       "      <td>S</td>\n",
       "      <td>Third</td>\n",
       "      <td>man</td>\n",
       "      <td>True</td>\n",
       "      <td>NaN</td>\n",
       "      <td>Southampton</td>\n",
       "      <td>no</td>\n",
       "      <td>True</td>\n",
       "    </tr>\n",
       "  </tbody>\n",
       "</table>\n",
       "</div>"
      ],
      "text/plain": [
       "   survived  pclass     sex   age  sibsp  parch     fare embarked  class  \\\n",
       "0         0       3    male  22.0      1      0   7.2500        S  Third   \n",
       "1         1       1  female  38.0      1      0  71.2833        C  First   \n",
       "2         1       3  female  26.0      0      0   7.9250        S  Third   \n",
       "3         1       1  female  35.0      1      0  53.1000        S  First   \n",
       "4         0       3    male  35.0      0      0   8.0500        S  Third   \n",
       "\n",
       "     who  adult_male deck  embark_town alive  alone  \n",
       "0    man        True  NaN  Southampton    no  False  \n",
       "1  woman       False    C    Cherbourg   yes  False  \n",
       "2  woman       False  NaN  Southampton   yes   True  \n",
       "3  woman       False    C  Southampton   yes  False  \n",
       "4    man        True  NaN  Southampton    no   True  "
      ]
     },
     "execution_count": 2,
     "metadata": {},
     "output_type": "execute_result"
    }
   ],
   "source": [
    "data = sns.load_dataset(\"titanic\")\n",
    "df = data.copy()\n",
    "df.head()"
   ]
  },
  {
   "cell_type": "markdown",
   "id": "840622c1-5534-4baf-acd3-2e33ae0a74e4",
   "metadata": {},
   "source": [
    "# Deleting blank spaces in the columns and capitalize them"
   ]
  },
  {
   "cell_type": "code",
   "execution_count": 3,
   "id": "10bbfa8e-e635-4ca6-93d0-3cf173361d0a",
   "metadata": {},
   "outputs": [],
   "source": [
    "df.columns = df.columns.str.strip()\n",
    "df.rename(columns = lambda x : str(x).capitalize() , inplace = True)"
   ]
  },
  {
   "cell_type": "markdown",
   "id": "41c01de6-5d8f-4c7a-9122-26b2dd2868c9",
   "metadata": {},
   "source": [
    "# Droping duplicated columns"
   ]
  },
  {
   "cell_type": "code",
   "execution_count": 4,
   "id": "17c9deb6-54ad-43ff-ab5a-a968673345e3",
   "metadata": {},
   "outputs": [],
   "source": [
    "df.drop(columns = [\"Embarked\" , \"Class\"] , inplace = True)"
   ]
  },
  {
   "cell_type": "markdown",
   "id": "909af62a-f95a-4e2b-993c-fa2dd69cfd26",
   "metadata": {},
   "source": [
    "# Using threshold method inside the dropna function"
   ]
  },
  {
   "cell_type": "code",
   "execution_count": 5,
   "id": "9cc313cb-6f0a-4497-bc22-821192727142",
   "metadata": {},
   "outputs": [],
   "source": [
    "df.dropna(axis = 1 , thresh=df.shape[0]*0.70 , inplace=True)"
   ]
  },
  {
   "cell_type": "markdown",
   "id": "f357ed0e-6f15-47dc-9960-d86cd6d90d38",
   "metadata": {},
   "source": [
    "# Converting True, False to Yes and No"
   ]
  },
  {
   "cell_type": "code",
   "execution_count": 6,
   "id": "20f10a83-6d11-4639-a1b2-16578936de72",
   "metadata": {},
   "outputs": [],
   "source": [
    "df[\"Alone\"] = df[\"Alone\"].map({False : \"No\" , True : \"Yes\"})\n",
    "df[\"Adult_male\"] = df[\"Adult_male\"].map({False : \"No\" , True : \"Yes\"})"
   ]
  },
  {
   "cell_type": "markdown",
   "id": "cc57a19c-e2dc-4b22-9fc2-6aff3c08c6d2",
   "metadata": {},
   "source": [
    "# Checking the null values and visualize it with heatmap"
   ]
  },
  {
   "cell_type": "code",
   "execution_count": 7,
   "id": "fde82cef-6673-459e-8b60-dac5baade0f5",
   "metadata": {},
   "outputs": [
    {
     "data": {
      "text/plain": [
       "Survived         0\n",
       "Pclass           0\n",
       "Sex              0\n",
       "Age            177\n",
       "Sibsp            0\n",
       "Parch            0\n",
       "Fare             0\n",
       "Who              0\n",
       "Adult_male       0\n",
       "Embark_town      2\n",
       "Alive            0\n",
       "Alone            0\n",
       "dtype: int64"
      ]
     },
     "execution_count": 7,
     "metadata": {},
     "output_type": "execute_result"
    }
   ],
   "source": [
    "df.isnull().sum()"
   ]
  },
  {
   "cell_type": "code",
   "execution_count": 8,
   "id": "49ed8c79-8e45-43f9-bbdf-1f8ae6062011",
   "metadata": {},
   "outputs": [
    {
     "data": {
      "image/png": "[encoded data removed]",
      "text/plain": [
       "<Figure size 864x576 with 1 Axes>"
      ]
     },
     "metadata": {
      "needs_background": "light"
     },
     "output_type": "display_data"
    }
   ],
   "source": [
    "sns.heatmap(data = df.isnull() , cbar = False , cmap = \"magma\" , yticklabels=False)\n",
    "plt.show()"
   ]
  },
  {
   "cell_type": "markdown",
   "id": "62b28657-1a37-46f0-a22b-8568eef220bc",
   "metadata": {},
   "source": [
    "# Droping duplicates "
   ]
  },
  {
   "cell_type": "code",
   "execution_count": 9,
   "id": "3df78698-cdd5-41ad-8230-09a65d22b28f",
   "metadata": {},
   "outputs": [
    {
     "name": "stdout",
     "output_type": "stream",
     "text": [
      "Before there are 111 in the dataset\n",
      "After there are 0 in the dataset\n"
     ]
    }
   ],
   "source": [
    "print(f\"Before there are {df.duplicated().sum()} in the dataset\")\n",
    "df.drop_duplicates(inplace = True , ignore_index=True)\n",
    "print(f\"After there are {df.duplicated().sum()} in the dataset\")"
   ]
  },
  {
   "cell_type": "markdown",
   "id": "f3861b1b-9009-4f63-90b0-01e11d6dafd5",
   "metadata": {},
   "source": [
    "# Spliting Dataset to X and y"
   ]
  },
  {
   "cell_type": "code",
   "execution_count": 10,
   "id": "324874de-ed3a-465d-a13e-15e69982f78c",
   "metadata": {},
   "outputs": [],
   "source": [
    "X = df.drop(columns = \"Survived\")\n",
    "y = df[\"Survived\"]"
   ]
  },
  {
   "cell_type": "markdown",
   "id": "33001abb-82bd-4cc0-afdd-ffbe684799cd",
   "metadata": {},
   "source": [
    "# Visualization for our predicted variable(dependent) and checked if the values of the outcome are balanced or not"
   ]
  },
  {
   "cell_type": "code",
   "execution_count": 11,
   "id": "3605a65c-57d4-43b8-bef7-90b56bb4e930",
   "metadata": {},
   "outputs": [
    {
     "data": {
      "image/png": "[encoded data removed]",
      "text/plain": [
       "<Figure size 864x576 with 1 Axes>"
      ]
     },
     "metadata": {},
     "output_type": "display_data"
    }
   ],
   "source": [
    "y.value_counts().plot(kind = \"pie\" , autopct = \"%.2f\" , explode = [0.0 , 0.1] , labels = [\"Not Survived\" , \"Survied\"])\n",
    "plt.legend(loc = \"best\")\n",
    "plt.show()"
   ]
  },
  {
   "cell_type": "markdown",
   "id": "c2e35084-f0db-4422-bc7a-5f087f40602a",
   "metadata": {},
   "source": [
    "# Spliting DataSet to train and test"
   ]
  },
  {
   "cell_type": "code",
   "execution_count": 12,
   "id": "24f8e99c-85d4-4a28-be44-763baa186d01",
   "metadata": {},
   "outputs": [],
   "source": [
    "X_train , X_test , y_train , y_test = train_test_split(X , y , test_size=0.2 , random_state=42 , stratify=y)"
   ]
  },
  {
   "cell_type": "markdown",
   "id": "0526d22a-394c-4efc-9b62-11de63195889",
   "metadata": {},
   "source": [
    "# I have grouped all types of variables as list for pipeline"
   ]
  },
  {
   "cell_type": "code",
   "execution_count": 13,
   "id": "5c954d46-f5fb-4906-b3d7-bc16d3284872",
   "metadata": {},
   "outputs": [],
   "source": [
    "numeric = [\"Age\" , \"Fare\"]\n",
    "categoric = [\"Sex\" , \"Embark_town\" , \"Who\" , \"Alive\" , \"Alone\" , \"Adult_male\"]\n",
    "binary_ordinal = [\"Pclass\" , \"Sibsp\" , \"Parch\"]"
   ]
  },
  {
   "cell_type": "markdown",
   "id": "6039a349-b133-4350-9f7f-8c53cc34d953",
   "metadata": {},
   "source": [
    "# Creating pipelines for each types of variable"
   ]
  },
  {
   "cell_type": "code",
   "execution_count": 14,
   "id": "ea165c91-ceda-4b9f-bdd2-8d59984ac472",
   "metadata": {},
   "outputs": [],
   "source": [
    "pipe_numeric = make_pipeline((SimpleImputer(missing_values=np.nan , strategy=\"median\")) , (RobustScaler()))\n",
    "pipe_category = make_pipeline((SimpleImputer(missing_values=np.nan , strategy=\"most_frequent\")) , (OneHotEncoder(handle_unknown=\"ignore\")))\n",
    "pipe_binary = make_pipeline((SimpleImputer(missing_values=np.nan , strategy=\"most_frequent\")))"
   ]
  },
  {
   "cell_type": "markdown",
   "id": "a85c2b15-b263-4e2d-b42f-2e82dcc6a94c",
   "metadata": {},
   "source": [
    "# Applying pipelines to the dateset with the help of the make_column_tranformer"
   ]
  },
  {
   "cell_type": "code",
   "execution_count": 15,
   "id": "9f32d6fc-6357-4a1f-a1d1-222628d589e6",
   "metadata": {},
   "outputs": [],
   "source": [
    "transformer = make_column_transformer((pipe_numeric , numeric),\n",
    "                                       (pipe_category ,categoric),\n",
    "                                       (pipe_binary , binary_ordinal))"
   ]
  },
  {
   "cell_type": "markdown",
   "id": "764aa4ad-f16d-4d79-afc9-85409f01de81",
   "metadata": {},
   "source": [
    "# Automate score, metrics, cross validation, confussion matrix, roc_curve with the help of the functions"
   ]
  },
  {
   "cell_type": "code",
   "execution_count": 16,
   "id": "f4d609fe-4f34-4ff4-baa3-663bc8c70786",
   "metadata": {},
   "outputs": [],
   "source": [
    "def score_func(model_name) : \n",
    "    train_score = model_name.score(X_train , y_train)\n",
    "    test_score = model_name.score(X_test , y_test)\n",
    "    \n",
    "    print(\"The train score is {:.2f}\".format(train_score))\n",
    "    print(\"The test score is {:.2f}\".format(test_score))"
   ]
  },
  {
   "cell_type": "code",
   "execution_count": 17,
   "id": "77cfe70c-4e8d-4299-bdad-2c539f3ca7a9",
   "metadata": {},
   "outputs": [],
   "source": [
    "def metrics_func(model_name) : \n",
    "    roc = roc_auc_score(y_test , y_pred)\n",
    "    f1 = f1_score(y_test , y_pred)\n",
    "    gini = (roc*2) - 1\n",
    "    balance = balanced_accuracy_score(y_test , y_pred)\n",
    "    \n",
    "    print(\"The roc auc score is {:.2f}\".format(roc))\n",
    "    print(\"The f1 score is {:.2f}\".format(f1))\n",
    "    print(\"The gini score is {:.2f}\".format(gini))\n",
    "    print(\"The balance score is {:.2f}\".format(balance))"
   ]
  },
  {
   "cell_type": "code",
   "execution_count": 18,
   "id": "8b7c3ac6-2e23-4c4b-9893-8d4c20af23bc",
   "metadata": {},
   "outputs": [],
   "source": [
    "def cross_func(model_name) : \n",
    "    cr = cross_val_score(estimator=model_name  , X = X_train , y = y_train , scoring=\"accuracy\" , cv = 10 , n_jobs=-1)\n",
    "    \n",
    "    max_score = np.argmax(cr)\n",
    "    min_score = np.argmin(cr)\n",
    "    average_score = np.mean(cr)\n",
    "    \n",
    "    print(\"The maxsimum score for this model can be {:.2f}\".format(cr[max_score]))\n",
    "    print(\"The minumum score for this model can be {:.2f}\".format(cr[min_score]))\n",
    "    print(\"The mean of the cross validation is {:.2f}\".format(average_score))"
   ]
  },
  {
   "cell_type": "code",
   "execution_count": 19,
   "id": "aa237c24-e59f-4221-8398-eed209e6af16",
   "metadata": {},
   "outputs": [],
   "source": [
    "def roc_curve_func(model_name) : \n",
    "    fpr , tpr, _ = roc_curve(y_true = y_test , y_score = model_name.predict_proba(X_test)[:,1])\n",
    "    plt.plot(fpr , tpr , label = \"Our Model\" , color = \"green\")\n",
    "    plt.plot([0,1],[0,1] , label = \"Random Model\" , color = \"magenta\")\n",
    "    plt.title(\"Roc Curve\" , fontsize = 16)\n",
    "    plt.ylabel(\"True Positive Rate\" , fontsize = 16)\n",
    "    plt.xlabel(\"False Positive Rate\" , fontsize = 16)\n",
    "    plt.legend(loc = \"best\")\n",
    "    plt.show()"
   ]
  },
  {
   "cell_type": "code",
   "execution_count": 20,
   "id": "13d033b1-d53d-453c-8aa8-03a1b4292bb9",
   "metadata": {},
   "outputs": [],
   "source": [
    "def confussion_function(model_name) : \n",
    "    cm = confusion_matrix(y_test , y_pred)\n",
    "    sns.heatmap(data = cm , cbar = False , cmap = plt.cm.Blues , yticklabels=False , xticklabels=False , annot=True , fmt=\".5g\")\n",
    "    plt.title(\"Confussion Matrix\" , fontsize = 16 , c = \"white\")\n",
    "    plt.ylabel(\"Ground Truth\" , fontsize = 16 , c = \"white\")\n",
    "    plt.xlabel(\"Predictions\" , fontsize = 16 , c = \"white\")\n",
    "    plt.show()"
   ]
  },
  {
   "cell_type": "code",
   "execution_count": 21,
   "id": "b5360d48-a43e-44eb-8af2-4082ab8e4be4",
   "metadata": {},
   "outputs": [],
   "source": [
    "def confussion_matrix_for_train(model_name) :\n",
    "    y_pred = model_name.predict(X_train)\n",
    "    cm = confusion_matrix(y_train , y_pred)\n",
    "    sns.heatmap(data = cm , cmap = plt.cm.Blues , annot = True , fmt = \".5g\" , yticklabels=False , xticklabels=False , cbar = False)\n",
    "    plt.title(\"Confussion Matrix\" , fontsize = 16 , c = \"white\")\n",
    "    plt.ylabel(\"Ground Truth\" , fontsize = 16 , c = \"white\")\n",
    "    plt.xlabel(\"Predictions\" , fontsize = 16 , c = \"white\")\n",
    "    plt.show()"
   ]
  },
  {
   "cell_type": "markdown",
   "id": "846085b7-510f-4e67-85fd-b138177c58d0",
   "metadata": {},
   "source": [
    "# Logistic Regression"
   ]
  },
  {
   "cell_type": "code",
   "execution_count": 22,
   "id": "169209a2-69c6-4472-ac8d-3b4b77f6b85e",
   "metadata": {},
   "outputs": [
    {
     "data": {
      "text/plain": [
       "Pipeline(steps=[('columntransformer',\n",
       "                 ColumnTransformer(transformers=[('pipeline-1',\n",
       "                                                  Pipeline(steps=[('simpleimputer',\n",
       "                                                                   SimpleImputer(strategy='median')),\n",
       "                                                                  ('robustscaler',\n",
       "                                                                   RobustScaler())]),\n",
       "                                                  ['Age', 'Fare']),\n",
       "                                                 ('pipeline-2',\n",
       "                                                  Pipeline(steps=[('simpleimputer',\n",
       "                                                                   SimpleImputer(strategy='most_frequent')),\n",
       "                                                                  ('onehotencoder',\n",
       "                                                                   OneHotEncoder(handle_unknown='ignore'))]),\n",
       "                                                  ['Sex', 'Embark_town', 'Who',\n",
       "                                                   'Alive', 'Alone',\n",
       "                                                   'Adult_male']),\n",
       "                                                 ('pipeline-3',\n",
       "                                                  Pipeline(steps=[('simpleimputer',\n",
       "                                                                   SimpleImputer(strategy='most_frequent'))]),\n",
       "                                                  ['Pclass', 'Sibsp',\n",
       "                                                   'Parch'])])),\n",
       "                ('sequentialfeatureselector',\n",
       "                 SequentialFeatureSelector(estimator=LogisticRegression(),\n",
       "                                           n_jobs=-1)),\n",
       "                ('logisticregression', LogisticRegression())])"
      ]
     },
     "execution_count": 22,
     "metadata": {},
     "output_type": "execute_result"
    }
   ],
   "source": [
    "model_log = make_pipeline(transformer , SequentialFeatureSelector(estimator=LogisticRegression() , cv = 5 , n_jobs=-1) ,\n",
    "                                        LogisticRegression())\n",
    "model_log.fit(X_train , y_train)"
   ]
  },
  {
   "cell_type": "markdown",
   "id": "e434e1c7-1674-45ae-85bf-387f0747793c",
   "metadata": {},
   "source": [
    "# Parametrs for Logistic Regression"
   ]
  },
  {
   "cell_type": "code",
   "execution_count": 23,
   "id": "7c12c931-af8b-4f26-ad61-0991c2dfcabb",
   "metadata": {},
   "outputs": [],
   "source": [
    "params = {\n",
    "         \"logisticregression__C\" : [0,1,2,3],\n",
    "         \"logisticregression__tol\" : [0.0001 , 0.001 , 0.01 , 0.1,1]}"
   ]
  },
  {
   "cell_type": "markdown",
   "id": "9204a93e-2b8e-4725-ba6e-5e4027e42efb",
   "metadata": {},
   "source": [
    "# Creating hyperparametr_tuning with GridSearch"
   ]
  },
  {
   "cell_type": "code",
   "execution_count": 24,
   "id": "2376cc28-8acf-4964-b6e6-a53b91f78672",
   "metadata": {},
   "outputs": [
    {
     "data": {
      "text/plain": [
       "GridSearchCV(cv=10,\n",
       "             estimator=Pipeline(steps=[('columntransformer',\n",
       "                                        ColumnTransformer(transformers=[('pipeline-1',\n",
       "                                                                         Pipeline(steps=[('simpleimputer',\n",
       "                                                                                          SimpleImputer(strategy='median')),\n",
       "                                                                                         ('robustscaler',\n",
       "                                                                                          RobustScaler())]),\n",
       "                                                                         ['Age',\n",
       "                                                                          'Fare']),\n",
       "                                                                        ('pipeline-2',\n",
       "                                                                         Pipeline(steps=[('simpleimputer',\n",
       "                                                                                          SimpleImputer(strategy='most_frequent')),\n",
       "                                                                                         ('onehotencoder',\n",
       "                                                                                          OneHotEncoder(ha...\n",
       "                                                                         Pipeline(steps=[('simpleimputer',\n",
       "                                                                                          SimpleImputer(strategy='most_frequent'))]),\n",
       "                                                                         ['Pclass',\n",
       "                                                                          'Sibsp',\n",
       "                                                                          'Parch'])])),\n",
       "                                       ('sequentialfeatureselector',\n",
       "                                        SequentialFeatureSelector(estimator=LogisticRegression(),\n",
       "                                                                  n_jobs=-1)),\n",
       "                                       ('logisticregression',\n",
       "                                        LogisticRegression())]),\n",
       "             n_jobs=-1,\n",
       "             param_grid={'logisticregression__C': [0, 1, 2, 3],\n",
       "                         'logisticregression__tol': [0.0001, 0.001, 0.01, 0.1,\n",
       "                                                     1]},\n",
       "             scoring='accuracy')"
      ]
     },
     "execution_count": 24,
     "metadata": {},
     "output_type": "execute_result"
    }
   ],
   "source": [
    "hyper_model_best = GridSearchCV(estimator=model_log , param_grid=params , scoring=\"accuracy\" , n_jobs=-1 , cv = 10)\n",
    "hyper_model_best.fit(X_train , y_train)"
   ]
  },
  {
   "cell_type": "markdown",
   "id": "832cfa05-e0bb-4d45-b9d7-1981ecf78ea2",
   "metadata": {},
   "source": [
    "# Creating model with best_estimator"
   ]
  },
  {
   "cell_type": "code",
   "execution_count": 25,
   "id": "d4ec6433-29ff-4e86-8db1-3442a4046cab",
   "metadata": {},
   "outputs": [
    {
     "data": {
      "text/plain": [
       "Pipeline(steps=[('columntransformer',\n",
       "                 ColumnTransformer(transformers=[('pipeline-1',\n",
       "                                                  Pipeline(steps=[('simpleimputer',\n",
       "                                                                   SimpleImputer(strategy='median')),\n",
       "                                                                  ('robustscaler',\n",
       "                                                                   RobustScaler())]),\n",
       "                                                  ['Age', 'Fare']),\n",
       "                                                 ('pipeline-2',\n",
       "                                                  Pipeline(steps=[('simpleimputer',\n",
       "                                                                   SimpleImputer(strategy='most_frequent')),\n",
       "                                                                  ('onehotencoder',\n",
       "                                                                   OneHotEncoder(handle_unknown='ignore'))]),\n",
       "                                                  ['Sex', 'Embark_town', 'Who',\n",
       "                                                   'Alive', 'Alone',\n",
       "                                                   'Adult_male']),\n",
       "                                                 ('pipeline-3',\n",
       "                                                  Pipeline(steps=[('simpleimputer',\n",
       "                                                                   SimpleImputer(strategy='most_frequent'))]),\n",
       "                                                  ['Pclass', 'Sibsp',\n",
       "                                                   'Parch'])])),\n",
       "                ('sequentialfeatureselector',\n",
       "                 SequentialFeatureSelector(estimator=LogisticRegression(),\n",
       "                                           n_jobs=-1)),\n",
       "                ('logisticregression', LogisticRegression(C=1))])"
      ]
     },
     "execution_count": 25,
     "metadata": {},
     "output_type": "execute_result"
    }
   ],
   "source": [
    "hyper_model = hyper_model_best.best_estimator_\n",
    "hyper_model.fit(X_train , y_train)"
   ]
  },
  {
   "cell_type": "markdown",
   "id": "71003788-5f86-4cab-bb45-b2258c60edad",
   "metadata": {},
   "source": [
    "# Train and Test score for Logistic Regression"
   ]
  },
  {
   "cell_type": "code",
   "execution_count": 26,
   "id": "17666562-a6f3-40f0-9a91-8d600bc5bdfb",
   "metadata": {},
   "outputs": [
    {
     "name": "stdout",
     "output_type": "stream",
     "text": [
      "The train score is 1.00\n",
      "The test score is 1.00\n"
     ]
    }
   ],
   "source": [
    "score_func(model_name = hyper_model)"
   ]
  },
  {
   "cell_type": "markdown",
   "id": "763f70b9-e310-4f70-92aa-932f90386179",
   "metadata": {},
   "source": [
    "# Classification Report for Logistic Regression"
   ]
  },
  {
   "cell_type": "code",
   "execution_count": 27,
   "id": "d8c47590-480a-4fb5-8867-2731b9c5aea7",
   "metadata": {},
   "outputs": [],
   "source": [
    "y_pred = hyper_model.predict(X_test)"
   ]
  },
  {
   "cell_type": "code",
   "execution_count": 28,
   "id": "65967063-234f-44ec-812c-723965f9dfa8",
   "metadata": {},
   "outputs": [
    {
     "name": "stdout",
     "output_type": "stream",
     "text": [
      "              precision    recall  f1-score   support\n",
      "\n",
      "           0       1.00      1.00      1.00        92\n",
      "           1       1.00      1.00      1.00        64\n",
      "\n",
      "    accuracy                           1.00       156\n",
      "   macro avg       1.00      1.00      1.00       156\n",
      "weighted avg       1.00      1.00      1.00       156\n",
      "\n"
     ]
    }
   ],
   "source": [
    "print(classification_report(y_test , y_pred))"
   ]
  },
  {
   "cell_type": "markdown",
   "id": "dd032c4a-0b9d-4af4-a091-cb791ae43aef",
   "metadata": {},
   "source": [
    "# Metrics for Logistic Regression"
   ]
  },
  {
   "cell_type": "code",
   "execution_count": 29,
   "id": "66756092-efe3-4098-b9f0-9410d1a5b95e",
   "metadata": {},
   "outputs": [
    {
     "name": "stdout",
     "output_type": "stream",
     "text": [
      "The roc auc score is 1.00\n",
      "The f1 score is 1.00\n",
      "The gini score is 1.00\n",
      "The balance score is 1.00\n"
     ]
    }
   ],
   "source": [
    "metrics_func(model_name=hyper_model)"
   ]
  },
  {
   "cell_type": "markdown",
   "id": "0782125b-7502-4bd8-8549-18bba2a7f7af",
   "metadata": {},
   "source": [
    "# Cross validation for Logistic Regression"
   ]
  },
  {
   "cell_type": "code",
   "execution_count": 30,
   "id": "663557ad-730b-4f40-9d6e-fb15252e45a3",
   "metadata": {},
   "outputs": [
    {
     "name": "stdout",
     "output_type": "stream",
     "text": [
      "The maxsimum score for this model can be 1.00\n",
      "The minumum score for this model can be 1.00\n",
      "The mean of the cross validation is 1.00\n"
     ]
    }
   ],
   "source": [
    "cross_func(model_name=hyper_model)"
   ]
  },
  {
   "cell_type": "markdown",
   "id": "32c17174-c6e7-4582-927f-93de7642952d",
   "metadata": {},
   "source": [
    "# Confussion Matrix for Logistic Regression"
   ]
  },
  {
   "cell_type": "code",
   "execution_count": 31,
   "id": "6bf389c8-61f6-4c47-bafc-8bef4c8854a7",
   "metadata": {},
   "outputs": [
    {
     "data": {
      "image/png": "[encoded data removed]",
      "text/plain": [
       "<Figure size 864x576 with 1 Axes>"
      ]
     },
     "metadata": {},
     "output_type": "display_data"
    }
   ],
   "source": [
    "confussion_function(model_name= hyper_model)"
   ]
  },
  {
   "cell_type": "markdown",
   "id": "0b15cb21-4f7d-440a-8248-db0257aecb9c",
   "metadata": {},
   "source": [
    "# Confussion Matrix for train data to evaluate the performance of train data"
   ]
  },
  {
   "cell_type": "code",
   "execution_count": 32,
   "id": "e7ab3ac4-729b-430e-bae3-473638e155e8",
   "metadata": {},
   "outputs": [
    {
     "data": {
      "image/png": "[encoded data removed]",
      "text/plain": [
       "<Figure size 864x576 with 1 Axes>"
      ]
     },
     "metadata": {},
     "output_type": "display_data"
    }
   ],
   "source": [
    "confussion_matrix_for_train(model_name=hyper_model)"
   ]
  },
  {
   "cell_type": "markdown",
   "id": "6b95148e-04a3-47a3-a0bb-36f5ae3bbfee",
   "metadata": {},
   "source": [
    "# Roc Curve for Logistic Regression"
   ]
  },
  {
   "cell_type": "code",
   "execution_count": 33,
   "id": "2cc26904-6813-44e3-bbdd-b0ac2be15f9d",
   "metadata": {},
   "outputs": [
    {
     "data": {
      "image/png": "[encoded data removed]",
      "text/plain": [
       "<Figure size 864x576 with 1 Axes>"
      ]
     },
     "metadata": {
      "needs_background": "light"
     },
     "output_type": "display_data"
    }
   ],
   "source": [
    "roc_curve_func(model_name=hyper_model)"
   ]
  },
  {
   "cell_type": "markdown",
   "id": "c7709633-f528-4c4d-9a1d-ba024a1b0613",
   "metadata": {},
   "source": [
    "# Saved our model for creating the stremlit application"
   ]
  },
  {
   "cell_type": "code",
   "execution_count": 34,
   "id": "ca32646c-5883-4fd6-ab9b-f29e7f40238a",
   "metadata": {},
   "outputs": [],
   "source": [
    "file_name = \"titanic_project\"\n",
    "pickle.dump(model_log , open(file_name , \"wb\"))"
   ]
  },
  {
   "cell_type": "markdown",
   "id": "565b7e12-a4ed-46aa-b036-477132f25c8b",
   "metadata": {},
   "source": [
    "# Saved our X_test data for the predictions in streamlit"
   ]
  },
  {
   "cell_type": "code",
   "execution_count": 35,
   "id": "073e4a40-6ea8-45a5-bac4-5081a3736a09",
   "metadata": {},
   "outputs": [],
   "source": [
    "X_test.to_csv(\"titanic_X_test\" , index=False)"
   ]
  }
 ],
 "metadata": {
  "kernelspec": {
   "display_name": "Python 3 (ipykernel)",
   "language": "python",
   "name": "python3"
  },
  "language_info": {
   "codemirror_mode": {
    "name": "ipython",
    "version": 3
   },
   "file_extension": ".py",
   "mimetype": "text/x-python",
   "name": "python",
   "nbconvert_exporter": "python",
   "pygments_lexer": "ipython3",
   "version": "3.9.7"
  }
 },
 "nbformat": 4,
 "nbformat_minor": 5
}
